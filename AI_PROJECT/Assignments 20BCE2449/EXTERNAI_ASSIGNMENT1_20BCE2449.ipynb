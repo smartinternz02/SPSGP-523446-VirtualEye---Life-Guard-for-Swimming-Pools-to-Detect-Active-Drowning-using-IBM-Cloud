{
  "nbformat": 4,
  "nbformat_minor": 0,
  "metadata": {
    "colab": {
      "provenance": []
    },
    "kernelspec": {
      "name": "python3",
      "display_name": "Python 3"
    },
    "language_info": {
      "name": "python"
    }
  },
  "cells": [
    {
      "cell_type": "markdown",
      "source": [
        "TASK 1"
      ],
      "metadata": {
        "id": "sEvkh_qZM5EK"
      }
    },
    {
      "cell_type": "code",
      "source": [
        "\n",
        "#Create a pandas dataframe (DataFrame name as 'df') with numpy random values (4 features and 4 observation)\n",
        "\n",
        "import pandas as pd\n",
        "import numpy as np\n",
        "\n",
        "data=np.random.rand(4,4)\n",
        "df=pd.DataFrame(data)\n",
        "print(df)"
      ],
      "metadata": {
        "colab": {
          "base_uri": "https://localhost:8080/"
        },
        "id": "ART8SpblM6qy",
        "outputId": "45bbd927-1daa-4252-cfd7-d643208a2821"
      },
      "execution_count": null,
      "outputs": [
        {
          "output_type": "stream",
          "name": "stdout",
          "text": [
            "          0         1         2         3\n",
            "0  0.205816  0.306446  0.046852  0.093335\n",
            "1  0.407336  0.511698  0.178204  0.413199\n",
            "2  0.010798  0.092806  0.387836  0.162514\n",
            "3  0.731159  0.234630  0.878986  0.562768\n"
          ]
        }
      ]
    },
    {
      "cell_type": "markdown",
      "source": [
        "TASK 2"
      ],
      "metadata": {
        "id": "KK11AFchNC_R"
      }
    },
    {
      "cell_type": "code",
      "source": [
        "#Rename the task - 1 'df' dataframe column names to 'Random value 1', 'Random value 2', 'Random value 3' & 'Random value 4'\n",
        "\n",
        "df.columns = ['Random value 1', 'Random value 2', 'Random value 3', 'Random value 4']\n",
        "print(df)\n"
      ],
      "metadata": {
        "colab": {
          "base_uri": "https://localhost:8080/"
        },
        "id": "GOGLYxkQNEhD",
        "outputId": "267145f6-acd0-4188-d43d-42471bf3fba6"
      },
      "execution_count": null,
      "outputs": [
        {
          "output_type": "stream",
          "name": "stdout",
          "text": [
            "   Random value 1  Random value 2  Random value 3  Random value 4\n",
            "0        0.205816        0.306446        0.046852        0.093335\n",
            "1        0.407336        0.511698        0.178204        0.413199\n",
            "2        0.010798        0.092806        0.387836        0.162514\n",
            "3        0.731159        0.234630        0.878986        0.562768\n"
          ]
        }
      ]
    },
    {
      "cell_type": "markdown",
      "source": [
        "TASK 3"
      ],
      "metadata": {
        "id": "VvtRkVSEOgD8"
      }
    },
    {
      "cell_type": "code",
      "source": [
        "#Find the descriptive statistics of the 'df' dataframe.\n",
        "\n",
        "statistics = df.describe()\n",
        "print(statistics)"
      ],
      "metadata": {
        "colab": {
          "base_uri": "https://localhost:8080/"
        },
        "id": "ZUzOiEKFOhtD",
        "outputId": "a39b576c-d2e1-4d7f-fd51-b7583ff6fbd1"
      },
      "execution_count": null,
      "outputs": [
        {
          "output_type": "stream",
          "name": "stdout",
          "text": [
            "       Random value 1  Random value 2  Random value 3  Random value 4\n",
            "count        4.000000        4.000000        4.000000        4.000000\n",
            "mean         0.338777        0.286395        0.372970        0.307954\n",
            "std          0.307632        0.174470        0.365404        0.218495\n",
            "min          0.010798        0.092806        0.046852        0.093335\n",
            "25%          0.157061        0.199174        0.145366        0.145219\n",
            "50%          0.306576        0.270538        0.283020        0.287857\n",
            "75%          0.488292        0.357759        0.510624        0.450591\n",
            "max          0.731159        0.511698        0.878986        0.562768\n"
          ]
        }
      ]
    },
    {
      "cell_type": "markdown",
      "source": [
        "TASK 4"
      ],
      "metadata": {
        "id": "vhQl_5HnPBt5"
      }
    },
    {
      "cell_type": "code",
      "source": [
        "#Check for the null values in 'df' and find the data type of the columns.\n",
        "\n",
        "print(df.isnull())\n",
        "print(\"\\n\")\n",
        "df['Random value 1'].dtype, df['Random value 2'].dtype, df['Random value 3'].dtype, df['Random value 4'].dtype"
      ],
      "metadata": {
        "colab": {
          "base_uri": "https://localhost:8080/"
        },
        "id": "tqB83vaqPC8x",
        "outputId": "d6909994-3e25-4c95-d989-af99d7e1cae5"
      },
      "execution_count": null,
      "outputs": [
        {
          "output_type": "stream",
          "name": "stdout",
          "text": [
            "   Random value 1  Random value 2  Random value 3  Random value 4\n",
            "0           False           False           False           False\n",
            "1           False           False           False           False\n",
            "2           False           False           False           False\n",
            "3           False           False           False           False\n",
            "\n",
            "\n"
          ]
        },
        {
          "output_type": "execute_result",
          "data": {
            "text/plain": [
              "(dtype('float64'), dtype('float64'), dtype('float64'), dtype('float64'))"
            ]
          },
          "metadata": {},
          "execution_count": 8
        }
      ]
    },
    {
      "cell_type": "markdown",
      "source": [
        "TASK 5"
      ],
      "metadata": {
        "id": "tQgPSTJmPlvC"
      }
    },
    {
      "cell_type": "code",
      "source": [
        "#Display the 'Random value 2' & 'Random value 3' columns with location method and index location method\n",
        "\n",
        "locmethod=df.loc[0:,'Random value 2':'Random value 3'] \n",
        "print(locmethod)\n",
        "print('\\n')\n",
        "indmethod=df.iloc[0:,1:3] #Random value 1 to 4 (0, 1, 2, 3)\n",
        "print(indmethod)"
      ],
      "metadata": {
        "colab": {
          "base_uri": "https://localhost:8080/"
        },
        "id": "keWabJr5Pnrv",
        "outputId": "21c12969-5403-416d-9161-e58fca54d268"
      },
      "execution_count": null,
      "outputs": [
        {
          "output_type": "stream",
          "name": "stdout",
          "text": [
            "   Random value 2  Random value 3\n",
            "0        0.306446        0.046852\n",
            "1        0.511698        0.178204\n",
            "2        0.092806        0.387836\n",
            "3        0.234630        0.878986\n",
            "\n",
            "\n",
            "   Random value 2  Random value 3\n",
            "0        0.306446        0.046852\n",
            "1        0.511698        0.178204\n",
            "2        0.092806        0.387836\n",
            "3        0.234630        0.878986\n"
          ]
        }
      ]
    }
  ]
}